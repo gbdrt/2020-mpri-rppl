{
 "cells": [
  {
   "cell_type": "markdown",
   "metadata": {},
   "source": [
    "# Reactive Probabilistic Programming"
   ]
  },
  {
   "cell_type": "markdown",
   "metadata": {},
   "source": [
    "## Bayesian Inference\n",
    "\n",
    "**Exercice:** Infer the bias of a coin\n",
    "\n",
    "- Each coin flip follows a Bernoulli distribution: $p(x | \\theta) \\sim \\textrm{Bernoulli}(\\theta)$\n",
    "- We assume a uniform prior $p(\\theta) \\sim \\textrm{Uniform(0, 1)}$\n",
    "\n",
    "**Question:** What is the bias of the coin $\\theta$ given a series of observations $x_1, \\dots, x_n$?\n",
    "\n",
    "*Reminder*:\n",
    "$$\n",
    "p(A|B) = \\frac{p(B|A) p(A)}{p(B)} \\qquad \\textrm{(Bayes rule)}\n",
    "$$"
   ]
  },
  {
   "cell_type": "markdown",
   "metadata": {},
   "source": [
    "**Solution**\n",
    "\n",
    "$$\n",
    "\\begin{align}\n",
    "p(\\theta | x) &= \\frac{p(x_1, \\dots, x_n|\\theta)p(\\theta)}{p(x)}\\\\\n",
    "& = \\frac{p(x_1, \\dots, x_n|\\theta)p(\\theta)}{\\int_{\\theta} p(x_1, \\dots, x_n | \\theta)}\\\\\\\\\n",
    "& \\propto p(x_1, \\dots, x_n|\\theta)p(\\theta)\\\\\\\\\n",
    "& \\propto \\theta^{\\sum_{i = 1}^n x_1} (1-\\theta)^{\\sum_{i = 1}^n (1-x_i)}\\\\\\\\\n",
    "&\\sim \\textrm{Beta}(1+\\sum_{i = 1}^n x_i, 1 + \\sum_{i = 1}^n (1-x_i))\n",
    "\\end{align}\n",
    "$$"
   ]
  },
  {
   "cell_type": "markdown",
   "metadata": {},
   "source": [
    "## Probabilistic Programming\n",
    "\n",
    "Let's program our first probabilistic language"
   ]
  },
  {
   "cell_type": "code",
   "execution_count": 1,
   "metadata": {},
   "outputs": [],
   "source": [
    "import numpy as np\n",
    "from utils import plot_posterior, plot_pdf, animate_model\n",
    "from torch.distributions import Bernoulli, Beta, Uniform\n",
    "import torch"
   ]
  },
  {
   "cell_type": "markdown",
   "metadata": {},
   "source": [
    "The two main constructs are:\n",
    "- `sample(d)`: draw sample from a distribution `d`\n",
    "- `observe(d, x)`: condition using the likelihood of observation `x` w.r.t. distribution `d`  "
   ]
  },
  {
   "cell_type": "code",
   "execution_count": 2,
   "metadata": {},
   "outputs": [],
   "source": [
    "def sample(d):\n",
    "    return d.sample().item()\n",
    "\n",
    "def observe(d, x):\n",
    "    return d.log_prob(torch.tensor(x)).item()"
   ]
  },
  {
   "cell_type": "code",
   "execution_count": 3,
   "metadata": {},
   "outputs": [],
   "source": [
    "def coin(flip):\n",
    "    theta = sample(Uniform(0, 1))\n",
    "    score = observe(Bernoulli(theta), flip)\n",
    "    return np.array([theta, score])"
   ]
  },
  {
   "cell_type": "code",
   "execution_count": 4,
   "metadata": {},
   "outputs": [
    {
     "data": {
      "text/plain": [
       "array([ 0.26518029, -1.32734537])"
      ]
     },
     "execution_count": 4,
     "metadata": {},
     "output_type": "execute_result"
    }
   ],
   "source": [
    "x = sample(Bernoulli(0.5))\n",
    "coin(x)"
   ]
  },
  {
   "cell_type": "markdown",
   "metadata": {},
   "source": [
    "### Importance sampling\n",
    "\n",
    "To approximate the posterior distribution we need to accumulate the results and normalize the resulting distribution"
   ]
  },
  {
   "cell_type": "code",
   "execution_count": 5,
   "metadata": {},
   "outputs": [],
   "source": [
    "def infer(model, data, n):\n",
    "    results = np.array([model(data) for _ in range(n)])\n",
    "    results[:,1] = np.exp(results[:,1])\n",
    "    results[:,1] /= np.sum(results[:,1])\n",
    "    return results"
   ]
  },
  {
   "cell_type": "code",
   "execution_count": 6,
   "metadata": {
    "scrolled": false
   },
   "outputs": [
    {
     "data": {
      "text/plain": [
       "<matplotlib.collections.LineCollection at 0x12cea49d0>"
      ]
     },
     "metadata": {},
     "output_type": "display_data"
    },
    {
     "data": {
      "image/png": "[encoded data removed]",
      "text/plain": [
       "<Figure size 432x288 with 1 Axes>"
      ]
     },
     "metadata": {
      "needs_background": "light"
     },
     "output_type": "display_data"
    }
   ],
   "source": [
    "results = infer(coin, 0., 1000)\n",
    "plot_posterior(results)"
   ]
  },
  {
   "cell_type": "markdown",
   "metadata": {},
   "source": [
    "More interesting: let's condition on a series of inputs data"
   ]
  },
  {
   "cell_type": "code",
   "execution_count": 7,
   "metadata": {},
   "outputs": [],
   "source": [
    "def coin(flips):\n",
    "    theta = sample(Uniform(0, 1))\n",
    "    score = 0\n",
    "    for flip in flips:\n",
    "        score += observe(Bernoulli(theta), flip)\n",
    "    return np.array([theta, score])"
   ]
  },
  {
   "cell_type": "code",
   "execution_count": 8,
   "metadata": {},
   "outputs": [
    {
     "data": {
      "text/plain": [
       "<matplotlib.collections.LineCollection at 0x12d110400>"
      ]
     },
     "metadata": {},
     "output_type": "display_data"
    },
    {
     "data": {
      "image/png": "[encoded data removed]",
      "text/plain": [
       "<Figure size 432x288 with 1 Axes>"
      ]
     },
     "metadata": {
      "needs_background": "light"
     },
     "output_type": "display_data"
    }
   ],
   "source": [
    "data = np.array([sample(Bernoulli(0.8)) for _ in range(50)])\n",
    "results = infer(coin, data, 500)\n",
    "plot_posterior(results)"
   ]
  },
  {
   "cell_type": "code",
   "execution_count": 9,
   "metadata": {},
   "outputs": [
    {
     "data": {
      "text/plain": [
       "[<matplotlib.lines.Line2D at 0x12d242c70>]"
      ]
     },
     "metadata": {},
     "output_type": "display_data"
    },
    {
     "data": {
      "image/png": "[encoded data removed]",
      "text/plain": [
       "<Figure size 432x288 with 1 Axes>"
      ]
     },
     "metadata": {
      "needs_background": "light"
     },
     "output_type": "display_data"
    }
   ],
   "source": [
    "tails = np.sum(data) \n",
    "heads = np.sum(1 - data)\n",
    "plot_pdf(Beta(tails+1, heads+1))"
   ]
  },
  {
   "cell_type": "markdown",
   "metadata": {},
   "source": [
    "One more thing: we can hide the probabilistic state for the user"
   ]
  },
  {
   "cell_type": "code",
   "execution_count": 10,
   "metadata": {},
   "outputs": [],
   "source": [
    "class Prob:\n",
    "    def __init__(self, idx: int, scores):\n",
    "        self.idx = idx\n",
    "        self.scores = scores\n",
    "\n",
    "def sample(prob, d):\n",
    "    return d.sample().item()\n",
    "\n",
    "def observe(prob, d, x):\n",
    "    prob.scores[prob.idx] += d.log_prob(torch.tensor(x))\n",
    "    \n",
    "def infer(model, data, n):\n",
    "    scores = np.zeros(n) \n",
    "    values = np.array([model(Prob(i, scores), data) for i in range(n)])\n",
    "    probs = np.exp(scores)\n",
    "    probs /= np.sum(probs)\n",
    "    return np.stack([values, probs], axis=1)"
   ]
  },
  {
   "cell_type": "code",
   "execution_count": 11,
   "metadata": {},
   "outputs": [],
   "source": [
    "def coin(prob, flips):\n",
    "    theta = sample(prob, Uniform(0, 1))\n",
    "    for flip in flips:\n",
    "        observe(prob, Bernoulli(theta), flip)\n",
    "    return theta"
   ]
  },
  {
   "cell_type": "code",
   "execution_count": 12,
   "metadata": {},
   "outputs": [
    {
     "data": {
      "text/plain": [
       "<matplotlib.collections.LineCollection at 0x12d2a2ee0>"
      ]
     },
     "metadata": {},
     "output_type": "display_data"
    },
    {
     "data": {
      "image/png": "[encoded data removed]",
      "text/plain": [
       "<Figure size 432x288 with 1 Axes>"
      ]
     },
     "metadata": {
      "needs_background": "light"
     },
     "output_type": "display_data"
    }
   ],
   "source": [
    "results = infer(coin, data, 500)\n",
    "plot_posterior(results)"
   ]
  },
  {
   "cell_type": "markdown",
   "metadata": {},
   "source": [
    "## Reactive Probabilistic Programming"
   ]
  },
  {
   "cell_type": "markdown",
   "metadata": {},
   "source": [
    "*Reminder*: Zelus generate three methods for each nodes `n`\n",
    "- `n.reset()` reinitialized the state\n",
    "- `n.step(*inputs)` execute one step of the transition function using the `inputs`\n",
    "- `n.copy(m)` copy the state of `n` in `m`"
   ]
  },
  {
   "cell_type": "code",
   "execution_count": 13,
   "metadata": {},
   "outputs": [
    {
     "data": {
      "application/javascript": [
       "IPython.CodeCell.options_default.highlight_modes['magic_ocaml'] = {'reg':[/^%%zelus/]};"
      ]
     },
     "metadata": {},
     "output_type": "display_data"
    }
   ],
   "source": [
    "import pyzls"
   ]
  },
  {
   "cell_type": "code",
   "execution_count": 14,
   "metadata": {},
   "outputs": [],
   "source": [
    "%%zelus -clear\n",
    "\n",
    "let node nat(i) = o where\n",
    "  rec o = 0 fby o + i"
   ]
  },
  {
   "cell_type": "code",
   "execution_count": 15,
   "metadata": {},
   "outputs": [
    {
     "data": {
      "text/plain": [
       "[1, 2, 3, 4, 5, 6, 7, 8, 9, 10]"
      ]
     },
     "execution_count": 15,
     "metadata": {},
     "output_type": "execute_result"
    }
   ],
   "source": [
    "n = nat()\n",
    "n.reset()\n",
    "[n.step(1) for _ in range(10)]"
   ]
  },
  {
   "cell_type": "markdown",
   "metadata": {},
   "source": [
    "Let's move to probabilistic programming.\n",
    "First probabilistic operators need to be lifted to zelus nodez. \n",
    "We use the `prob` trick to hide the state."
   ]
  },
  {
   "cell_type": "code",
   "execution_count": 16,
   "metadata": {},
   "outputs": [],
   "source": [
    "%%zelus_lib -clear -name infer_importance\n",
    "\n",
    "type 'a dist\n",
    "\n",
    "val sample : 'a dist ~D~> 'a\n",
    "val observe : 'a dist * 'a ~D~> unit\n",
    "\n",
    "val infer : int -S-> ('a ~D~> 'b) -S-> 'a -D-> 'b dist"
   ]
  },
  {
   "cell_type": "code",
   "execution_count": 17,
   "metadata": {},
   "outputs": [],
   "source": [
    "%%save -clear -file infer_importance.py\n",
    "\n",
    "from pyzls import CNode\n",
    "import numpy as np\n",
    "import torch\n",
    "\n",
    "\n",
    "class Prob:\n",
    "    def __init__(self, idx: int, scores):\n",
    "        self.idx = idx\n",
    "        self.scores = scores\n",
    "\n",
    "\n",
    "class sample(CNode):\n",
    "    def step(self, prob: Prob, d):\n",
    "        return d.sample()\n",
    "\n",
    "\n",
    "class observe(CNode):\n",
    "    def step(self, prob: Prob, d, x):\n",
    "        prob.scores[prob.idx] += d.log_prob(torch.tensor(x))\n",
    "        return ()"
   ]
  },
  {
   "cell_type": "markdown",
   "metadata": {},
   "source": [
    "We do the same for `infer`."
   ]
  },
  {
   "cell_type": "code",
   "execution_count": 18,
   "metadata": {},
   "outputs": [],
   "source": [
    "%%save -file infer_importance.py\n",
    "\n",
    "def infer(n: int):\n",
    "    def infer(f: CNode):\n",
    "        class infer(CNode):\n",
    "            def __init__(self):\n",
    "                self.scores = np.zeros(n)\n",
    "                self.particles = [f() for _ in range(n)]\n",
    "\n",
    "            def reset(self):\n",
    "                self.scores.fill(0)\n",
    "                for p in self.particles:\n",
    "                    p.reset()\n",
    "\n",
    "            def step(self, *args):\n",
    "                values = np.array(\n",
    "                    [\n",
    "                        p.step(Prob(i, self.scores), *args)\n",
    "                        for i, p in enumerate(self.particles)\n",
    "                    ]\n",
    "                )\n",
    "                probs = np.exp(self.scores) \n",
    "                probs /= np.sum(probs)\n",
    "                return np.stack([values, probs], axis=1)\n",
    "        return infer\n",
    "    return infer"
   ]
  },
  {
   "cell_type": "markdown",
   "metadata": {},
   "source": [
    "Let's try our first reactive probabilistic model: a kalman filter to track a position."
   ]
  },
  {
   "cell_type": "code",
   "execution_count": 19,
   "metadata": {},
   "outputs": [],
   "source": [
    "@pyzls.lib(\"dist\")\n",
    "def gaussian(*args: \"'a\") -> \"'b\":\n",
    "    from torch.distributions import Normal\n",
    "    return Normal(*args)"
   ]
  },
  {
   "cell_type": "code",
   "execution_count": 20,
   "metadata": {},
   "outputs": [],
   "source": [
    "%%zelus -clear\n",
    "\n",
    "open Dist\n",
    "open Infer_importance\n",
    "\n",
    "let proba kalman(x) = o where\n",
    "     rec o = sample(gaussian(0. fby o, 2.))\n",
    "     and _ = observe(gaussian(o, 4.), x)\n",
    "     \n",
    "let node tracker i = dist where\n",
    "  rec dist = infer(100)(kalman)(i)"
   ]
  },
  {
   "cell_type": "code",
   "execution_count": 21,
   "metadata": {
    "scrolled": true
   },
   "outputs": [
    {
     "data": {
      "image/png": "[encoded data removed]",
      "text/plain": [
       "<Figure size 432x288 with 1 Axes>"
      ]
     },
     "metadata": {
      "needs_background": "light"
     },
     "output_type": "display_data"
    }
   ],
   "source": [
    "n = 150\n",
    "noisy_sin = 10*np.sin(0.1*np.arange(n)) + np.random.randn(n)\n",
    "animate_model(tracker(), noisy_sin)"
   ]
  },
  {
   "cell_type": "markdown",
   "metadata": {},
   "source": [
    "Oupss\n",
    "\n",
    "What happens here is that we always keep the same set of particles. The score keeps decreasing with each new observations. Eventually, all scores are so low that we get no informations.\n",
    "\n",
    "\n",
    "### Particle Filtering\n",
    "\n",
    "Same as before but:\n",
    "- At each step we resample the particles\n",
    "- We duplicate particles with high score and discard particles with low scores"
   ]
  },
  {
   "cell_type": "code",
   "execution_count": 22,
   "metadata": {},
   "outputs": [],
   "source": [
    "%%zelus_lib -c -name infer_pf\n",
    "\n",
    "type 'a dist\n",
    "val sample : 'a dist ~D~> 'a\n",
    "val observe : 'a dist * 'a ~D~> unit\n",
    "\n",
    "val infer : int -S-> ('a ~D~> 'b) -S-> 'a -D-> 'b dist"
   ]
  },
  {
   "cell_type": "code",
   "execution_count": 23,
   "metadata": {},
   "outputs": [],
   "source": [
    "%%save -clear -file infer_pf.py\n",
    "\n",
    "from pyzls import CNode\n",
    "import numpy as np\n",
    "import torch\n",
    "\n",
    "\n",
    "class Prob:\n",
    "    def __init__(self, idx: int, scores):\n",
    "        self.idx = idx\n",
    "        self.scores = scores\n",
    "\n",
    "\n",
    "class sample(CNode):\n",
    "    def step(self, prob: Prob, d):\n",
    "        return d.sample()\n",
    "\n",
    "\n",
    "class observe(CNode):\n",
    "    def step(self, prob: Prob, d, x):\n",
    "        prob.scores[prob.idx] += d.log_prob(torch.tensor(x))\n",
    "        return ()\n",
    "\n",
    "\n",
    "def infer(n: int):\n",
    "    def infer(f: CNode):\n",
    "        class infer(CNode):\n",
    "            def __init__(self):\n",
    "                self.scores = np.zeros(n)\n",
    "                self.particles = [f() for _ in range(n)]\n",
    "\n",
    "            def reset(self):\n",
    "                self.scores.fill(0)\n",
    "                for p in self.particles:\n",
    "                    p.reset()\n",
    "\n",
    "            def step(self, *args):\n",
    "                values = np.array(\n",
    "                    [\n",
    "                        p.step(Prob(i, self.scores), *args)\n",
    "                        for i, p in enumerate(self.particles)\n",
    "                    ]\n",
    "                )\n",
    "                probs = np.exp(self.scores)\n",
    "                probs /= np.sum(probs)\n",
    "                ids = np.random.choice(n, size=n, p=probs)\n",
    "                particles = [f() for _ in range(n)]\n",
    "                for i, idx in enumerate(ids):\n",
    "                    self.particles[idx].copy(particles[i])\n",
    "                self.particles = particles\n",
    "                self.scores.fill(0)\n",
    "                return np.stack([values, probs], axis=1)\n",
    "        return infer\n",
    "    return infer"
   ]
  },
  {
   "cell_type": "markdown",
   "metadata": {},
   "source": [
    "Let's try again!"
   ]
  },
  {
   "cell_type": "code",
   "execution_count": 24,
   "metadata": {},
   "outputs": [],
   "source": [
    "%%zelus -clear\n",
    "\n",
    "open Dist\n",
    "open Infer_pf\n",
    "\n",
    "let proba kalman(x) = o where\n",
    "     rec o = sample(gaussian(0. fby o, 2.))\n",
    "     and _ = observe(gaussian(o, 4.), x)\n",
    "     \n",
    "let node tracker i = dist where\n",
    "  rec dist = infer(100)(kalman)(i)"
   ]
  },
  {
   "cell_type": "code",
   "execution_count": 25,
   "metadata": {},
   "outputs": [
    {
     "data": {
      "image/png": "[encoded data removed]",
      "text/plain": [
       "<Figure size 432x288 with 1 Axes>"
      ]
     },
     "metadata": {
      "needs_background": "light"
     },
     "output_type": "display_data"
    }
   ],
   "source": [
    "animate_model(tracker(), noisy_sin)"
   ]
  },
  {
   "cell_type": "code",
   "execution_count": null,
   "metadata": {},
   "outputs": [],
   "source": []
  }
 ],
 "metadata": {
  "kernelspec": {
   "display_name": "Python 3",
   "language": "python",
   "name": "python3"
  },
  "language_info": {
   "codemirror_mode": {
    "name": "ipython",
    "version": 3
   },
   "file_extension": ".py",
   "mimetype": "text/x-python",
   "name": "python",
   "nbconvert_exporter": "python",
   "pygments_lexer": "ipython3",
   "version": "3.9.1"
  }
 },
 "nbformat": 4,
 "nbformat_minor": 4
}
