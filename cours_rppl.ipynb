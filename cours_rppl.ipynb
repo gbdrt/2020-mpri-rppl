{
 "cells": [
  {
   "cell_type": "markdown",
   "metadata": {},
   "source": [
    "# Reactive Probabilistic Programming"
   ]
  },
  {
   "cell_type": "markdown",
   "metadata": {},
   "source": [
    "## Bayesian Inference\n",
    "\n",
    "**Exercice:** Infer the bias of a coin\n",
    "\n",
    "- Each coin flip follows a Bernoulli distribution: $p(o | \\theta) \\sim \\textrm{Bernoulli}(\\theta)$ ()\n",
    "- We assume a uniform prior $p(\\theta) \\sim \\textrm{Uniform(0, 1)}$\n",
    "\n",
    "**Question:** What is the bias of the coin $\\theta$ given a series of observations $x_1, \\dots, x_n$?\n",
    "\n",
    "*Reminder*:\n",
    "$$\n",
    "p(A|B) = \\frac{p(B|A) p(A)}{p(B)} \\qquad \\textrm{(Bayes rule)}\n",
    "$$"
   ]
  },
  {
   "cell_type": "markdown",
   "metadata": {},
   "source": [
    "\n"
   ]
  },
  {
   "cell_type": "markdown",
   "metadata": {},
   "source": [
    "## Probabilistic Programming\n",
    "\n",
    "Let's program our first probabilistic language"
   ]
  },
  {
   "cell_type": "code",
   "execution_count": null,
   "metadata": {},
   "outputs": [],
   "source": [
    "import numpy as np\n",
    "from utils import plot_posterior, plot_pdf, animate_model\n",
    "from torch.distributions import Bernoulli, Beta, Uniform"
   ]
  },
  {
   "cell_type": "markdown",
   "metadata": {},
   "source": [
    "The two main constructs are:\n",
    "- `sample(d)`: draw sample from a distribution `d`\n",
    "- `observe(d, x)`: condition using the likelihood of observation `x` w.r.t. distribution `d`  "
   ]
  },
  {
   "cell_type": "code",
   "execution_count": null,
   "metadata": {},
   "outputs": [],
   "source": [
    "def sample(d):\n",
    "    # TODO\n",
    "    pass\n",
    "\n",
    "def observe(d, x):\n",
    "    # TODO\n",
    "    pass"
   ]
  },
  {
   "cell_type": "code",
   "execution_count": null,
   "metadata": {},
   "outputs": [],
   "source": [
    "def coin(flip):\n",
    "    # TODO\n",
    "    pass"
   ]
  },
  {
   "cell_type": "code",
   "execution_count": null,
   "metadata": {},
   "outputs": [],
   "source": []
  },
  {
   "cell_type": "markdown",
   "metadata": {},
   "source": [
    "### Importance sampling\n",
    "\n",
    "To approximate the posterior distribution we need to accumulate the results and normalize the resulting distribution"
   ]
  },
  {
   "cell_type": "code",
   "execution_count": null,
   "metadata": {},
   "outputs": [],
   "source": [
    "def infer(model, data, n):\n",
    "    # TODO\n",
    "    pass"
   ]
  },
  {
   "cell_type": "code",
   "execution_count": null,
   "metadata": {
    "scrolled": false
   },
   "outputs": [],
   "source": []
  },
  {
   "cell_type": "markdown",
   "metadata": {},
   "source": [
    "More interesting: let's condition on a series of inputs data"
   ]
  },
  {
   "cell_type": "code",
   "execution_count": null,
   "metadata": {},
   "outputs": [],
   "source": [
    "def coin(flips):\n",
    "    # TODO\n",
    "    pass"
   ]
  },
  {
   "cell_type": "code",
   "execution_count": null,
   "metadata": {},
   "outputs": [],
   "source": []
  },
  {
   "cell_type": "code",
   "execution_count": null,
   "metadata": {},
   "outputs": [],
   "source": []
  },
  {
   "cell_type": "markdown",
   "metadata": {},
   "source": [
    "One more thing: we can hide the probabilistic state for the user"
   ]
  },
  {
   "cell_type": "code",
   "execution_count": null,
   "metadata": {},
   "outputs": [],
   "source": [
    "class Prob:\n",
    "    def __init__(self, idx: int, scores):\n",
    "        # TODO\n",
    "        pass\n",
    "\n",
    "def sample(prob, d):\n",
    "    # TODO\n",
    "    pass\n",
    "\n",
    "def observe(prob, d, x):\n",
    "    # TODO\n",
    "    pass\n",
    "    \n",
    "def infer(model, data, n):\n",
    "    # TODO\n",
    "    pass"
   ]
  },
  {
   "cell_type": "code",
   "execution_count": null,
   "metadata": {},
   "outputs": [],
   "source": [
    "def coin(prob, flips):\n",
    "    # TODO\n",
    "    pass"
   ]
  },
  {
   "cell_type": "code",
   "execution_count": null,
   "metadata": {},
   "outputs": [],
   "source": []
  },
  {
   "cell_type": "markdown",
   "metadata": {},
   "source": [
    "## Reactive Probabilistic Programming"
   ]
  },
  {
   "cell_type": "markdown",
   "metadata": {},
   "source": [
    "*Reminder*: Zelus generate three methods for each nodes `n`\n",
    "- `n.reset()` reinitialized the state\n",
    "- `n.step(*inputs)` execute one step of the transition function using the `inputs`\n",
    "- `n.copy(m)` copy the state of `n` in `m`"
   ]
  },
  {
   "cell_type": "code",
   "execution_count": null,
   "metadata": {},
   "outputs": [],
   "source": [
    "import pyzls"
   ]
  },
  {
   "cell_type": "code",
   "execution_count": null,
   "metadata": {},
   "outputs": [],
   "source": []
  },
  {
   "cell_type": "code",
   "execution_count": null,
   "metadata": {},
   "outputs": [],
   "source": []
  },
  {
   "cell_type": "markdown",
   "metadata": {},
   "source": [
    "Let's move to probabilistic programming.\n",
    "First probabilistic operators need to be lifted to zelus nodez. \n",
    "We use the `prob` trick to hide the state."
   ]
  },
  {
   "cell_type": "code",
   "execution_count": null,
   "metadata": {},
   "outputs": [],
   "source": [
    "%%zelus_lib -clear -name infer_importance\n",
    "\n",
    "type 'a dist\n",
    "\n",
    "val sample : 'a dist ~D~> 'a\n",
    "val observe : 'a dist * 'a ~D~> unit\n",
    "\n",
    "val infer : int -S-> ('a ~D~> 'b) -S-> 'a -D-> 'b dist"
   ]
  },
  {
   "cell_type": "code",
   "execution_count": null,
   "metadata": {},
   "outputs": [],
   "source": [
    "%%save -clear -file infer_importance.py\n",
    "\n",
    "from pyzls import CNode\n",
    "import numpy as np\n",
    "\n",
    "\n",
    "class Prob:\n",
    "    def __init__(self, idx: int, scores):\n",
    "        # TODO\n",
    "        pass\n",
    "\n",
    "\n",
    "class sample(CNode):\n",
    "    def __init__(self):\n",
    "        pass\n",
    "\n",
    "    def reset(self):\n",
    "        pass\n",
    "\n",
    "    def copy(self, dest):\n",
    "        pass\n",
    "\n",
    "    def step(self, prob: Prob, x):\n",
    "        # TODO\n",
    "        pass\n",
    "\n",
    "\n",
    "class observe(CNode):\n",
    "    def __init__(self):\n",
    "        pass\n",
    "\n",
    "    def reset(self):\n",
    "        pass\n",
    "\n",
    "    def copy(self, dest):\n",
    "        pass\n",
    "\n",
    "    def step(self, prob: Prob, d, x):\n",
    "        # TODO\n",
    "        pass"
   ]
  },
  {
   "cell_type": "markdown",
   "metadata": {},
   "source": [
    "We do the same for `infer`."
   ]
  },
  {
   "cell_type": "code",
   "execution_count": null,
   "metadata": {},
   "outputs": [],
   "source": [
    "%%save -file infer_importance.py\n",
    "\n",
    "def infer(n: int):\n",
    "    def infer(f: CNode):\n",
    "        class infer(CNode):\n",
    "            def __init__(self):\n",
    "                # TODO\n",
    "                pass\n",
    "\n",
    "            def reset(self):\n",
    "                # TODO\n",
    "                pass\n",
    "\n",
    "            def copy(self, dest):\n",
    "                pass\n",
    "\n",
    "            def step(self, *args):\n",
    "                # TODO\n",
    "                pass\n",
    "\n",
    "        return infer\n",
    "\n",
    "    return infer"
   ]
  },
  {
   "cell_type": "markdown",
   "metadata": {},
   "source": [
    "Let's try our first reactive probabilistic model: a kalman filter to track a position."
   ]
  },
  {
   "cell_type": "code",
   "execution_count": null,
   "metadata": {},
   "outputs": [],
   "source": []
  },
  {
   "cell_type": "code",
   "execution_count": null,
   "metadata": {},
   "outputs": [],
   "source": []
  },
  {
   "cell_type": "code",
   "execution_count": null,
   "metadata": {},
   "outputs": [],
   "source": []
  },
  {
   "cell_type": "markdown",
   "metadata": {},
   "source": [
    "Oupss\n",
    "\n",
    "What happens here is that we always keep the same set of particles. The score keeps decreasing with each new observations. Eventually, all scores are so low that we get no informations.\n",
    "\n",
    "\n",
    "### Particle Filtering\n",
    "\n",
    "Same as before but:\n",
    "- At each step we resample the particles\n",
    "- We duplicate particles with high score and discard particles with low scores"
   ]
  },
  {
   "cell_type": "code",
   "execution_count": null,
   "metadata": {},
   "outputs": [],
   "source": [
    "%%zelus_lib -c -name infer_pf\n",
    "\n",
    "type 'a dist\n",
    "\n",
    "val sample : 'a dist ~D~> 'a\n",
    "val observe : 'a dist * 'a ~D~> unit\n",
    "\n",
    "val infer : int -S-> ('a ~D~> 'b) -S-> 'a -D-> 'b dist"
   ]
  },
  {
   "cell_type": "code",
   "execution_count": null,
   "metadata": {},
   "outputs": [],
   "source": [
    "%%save -clear -file infer_pf.py\n",
    "\n",
    "from pyzls import CNode\n",
    "import numpy as np\n",
    "\n",
    "\n",
    "class Prob:\n",
    "    def __init__(self, idx: int, scores):\n",
    "        # TODO\n",
    "        pass\n",
    "\n",
    "\n",
    "class sample(CNode):\n",
    "    def __init__(self):\n",
    "        pass\n",
    "\n",
    "    def reset(self):\n",
    "        pass\n",
    "\n",
    "    def copy(self, dest):\n",
    "        pass\n",
    "\n",
    "    def step(self, prob: Prob, d):\n",
    "        # TODO\n",
    "        pass\n",
    "\n",
    "\n",
    "class observe(CNode):\n",
    "    def __init__(self):\n",
    "        pass\n",
    "\n",
    "    def reset(self):\n",
    "        pass\n",
    "\n",
    "    def copy(self, dest):\n",
    "        pass\n",
    "\n",
    "    def step(self, prob: Prob, d, x):\n",
    "        # TODO\n",
    "        pass\n",
    "\n",
    "def infer(n: int):\n",
    "    def infer(f: CNode):\n",
    "        class infer(CNode):\n",
    "            def __init__(self):\n",
    "                # TODO\n",
    "                pass\n",
    "\n",
    "            def reset(self):\n",
    "                # TODO\n",
    "                pass\n",
    "\n",
    "            def copy(self, dest):\n",
    "                pass\n",
    "\n",
    "            def step(self, *args):\n",
    "                # TODO\n",
    "                pass\n",
    "\n",
    "        return infer\n",
    "\n",
    "    return infer"
   ]
  },
  {
   "cell_type": "markdown",
   "metadata": {},
   "source": [
    "Let's try again!"
   ]
  },
  {
   "cell_type": "code",
   "execution_count": null,
   "metadata": {},
   "outputs": [],
   "source": []
  },
  {
   "cell_type": "code",
   "execution_count": null,
   "metadata": {},
   "outputs": [],
   "source": []
  },
  {
   "cell_type": "code",
   "execution_count": null,
   "metadata": {},
   "outputs": [],
   "source": []
  }
 ],
 "metadata": {
  "kernelspec": {
   "display_name": "Python 3",
   "language": "python",
   "name": "python3"
  },
  "language_info": {
   "codemirror_mode": {
    "name": "ipython",
    "version": 3
   },
   "file_extension": ".py",
   "mimetype": "text/x-python",
   "name": "python",
   "nbconvert_exporter": "python",
   "pygments_lexer": "ipython3",
   "version": "3.8.2"
  }
 },
 "nbformat": 4,
 "nbformat_minor": 4
}
